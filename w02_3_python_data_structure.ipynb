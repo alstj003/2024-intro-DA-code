{
  "nbformat": 4,
  "nbformat_minor": 0,
  "metadata": {
    "colab": {
      "provenance": [],
      "authorship_tag": "ABX9TyNRLP9ILrEF0UflheCA50MB",
      "include_colab_link": true
    },
    "kernelspec": {
      "name": "python3",
      "display_name": "Python 3"
    },
    "language_info": {
      "name": "python"
    }
  },
  "cells": [
    {
      "cell_type": "markdown",
      "metadata": {
        "id": "view-in-github",
        "colab_type": "text"
      },
      "source": [
        "<a href=\"https://colab.research.google.com/github/alstj003/2024-intro-DA-code/blob/main/w02_3_python_data_structure.ipynb\" target=\"_parent\"><img src=\"https://colab.research.google.com/assets/colab-badge.svg\" alt=\"Open In Colab\"/></a>"
      ]
    },
    {
      "cell_type": "markdown",
      "source": [
        "###리스트 개요와 생성"
      ],
      "metadata": {
        "id": "Cf0-dnE690Tb"
      }
    },
    {
      "cell_type": "code",
      "execution_count": 2,
      "metadata": {
        "colab": {
          "base_uri": "https://localhost:8080/"
        },
        "id": "ap78xBrg9qQ1",
        "outputId": "f19dfc2e-736e-4187-b2dc-9ec665162979"
      },
      "outputs": [
        {
          "output_type": "stream",
          "name": "stdout",
          "text": [
            "[10, 20, 30] <class 'list'>\n"
          ]
        }
      ],
      "source": [
        "lst = [10, 20, 30]\n",
        "print(lst, type(lst))"
      ]
    },
    {
      "cell_type": "code",
      "source": [
        "list(['java', 'python', 'R'])"
      ],
      "metadata": {
        "colab": {
          "base_uri": "https://localhost:8080/"
        },
        "id": "hfGCCeXm-P9P",
        "outputId": "270e6529-fbed-48ed-c41e-4c75b06e9b84"
      },
      "execution_count": 3,
      "outputs": [
        {
          "output_type": "execute_result",
          "data": {
            "text/plain": [
              "['java', 'python', 'R']"
            ]
          },
          "metadata": {},
          "execution_count": 3
        }
      ]
    },
    {
      "cell_type": "code",
      "source": [
        "print(list(range(5)))\n",
        "print(list(range(1, 10, 2)))"
      ],
      "metadata": {
        "colab": {
          "base_uri": "https://localhost:8080/"
        },
        "id": "d31ttMgi-ih1",
        "outputId": "d0b065f7-8943-4488-aebf-25694c6b7d8a"
      },
      "execution_count": 4,
      "outputs": [
        {
          "output_type": "stream",
          "name": "stdout",
          "text": [
            "[0, 1, 2, 3, 4]\n",
            "[1, 3, 5, 7, 9]\n"
          ]
        }
      ]
    },
    {
      "cell_type": "markdown",
      "source": [
        "###첨자 인덱싱과 슬레이싱"
      ],
      "metadata": {
        "id": "8VGl_hRL-vqY"
      }
    },
    {
      "cell_type": "code",
      "source": [
        "lst = [1, 3.92, 3 > 4, 'list']\n",
        "print(lst[0], lst[2])"
      ],
      "metadata": {
        "colab": {
          "base_uri": "https://localhost:8080/"
        },
        "id": "-UxTPm_3-uOt",
        "outputId": "1a06d2b3-984d-42e3-8752-93088139242a"
      },
      "execution_count": 5,
      "outputs": [
        {
          "output_type": "stream",
          "name": "stdout",
          "text": [
            "1 False\n"
          ]
        }
      ]
    },
    {
      "cell_type": "code",
      "source": [
        "lst[2:4]"
      ],
      "metadata": {
        "colab": {
          "base_uri": "https://localhost:8080/"
        },
        "id": "Q8rqxcWK-_5t",
        "outputId": "88906777-34e1-46e6-d470-e48f132deacf"
      },
      "execution_count": 6,
      "outputs": [
        {
          "output_type": "execute_result",
          "data": {
            "text/plain": [
              "[False, 'list']"
            ]
          },
          "metadata": {},
          "execution_count": 6
        }
      ]
    },
    {
      "cell_type": "code",
      "source": [
        "print(lst[2:])\n",
        "print(lst[:4])\n",
        "print(lst[-1:-4:-1])"
      ],
      "metadata": {
        "colab": {
          "base_uri": "https://localhost:8080/"
        },
        "id": "P_et7ubc_CsP",
        "outputId": "dcf73379-b2ba-4123-a8fa-ff20ed106204"
      },
      "execution_count": 7,
      "outputs": [
        {
          "output_type": "stream",
          "name": "stdout",
          "text": [
            "[False, 'list']\n",
            "[1, 3.92, False, 'list']\n",
            "['list', False, 3.92]\n"
          ]
        }
      ]
    },
    {
      "cell_type": "markdown",
      "source": [
        "###메소드 append() insert()"
      ],
      "metadata": {
        "id": "KpnZx9Il_U-w"
      }
    },
    {
      "cell_type": "code",
      "source": [
        "import math as m\n",
        "a = [m.pi, 30, 10 > 4, 'list', lambda x: x**3]\n",
        "a.append('py')\n",
        "a"
      ],
      "metadata": {
        "colab": {
          "base_uri": "https://localhost:8080/"
        },
        "id": "W_FSKdGm_RV-",
        "outputId": "1ba952f0-7bcd-4bbc-f85d-baf50d0a04d2"
      },
      "execution_count": 19,
      "outputs": [
        {
          "output_type": "execute_result",
          "data": {
            "text/plain": [
              "[3.141592653589793, 30, True, 'list', <function __main__.<lambda>(x)>, 'py']"
            ]
          },
          "metadata": {},
          "execution_count": 19
        }
      ]
    },
    {
      "cell_type": "code",
      "source": [
        "def add2(x, y):\n",
        "  return x + y\n",
        "\n",
        "a.insert(1, add2)\n",
        "a[1](10, 20)"
      ],
      "metadata": {
        "colab": {
          "base_uri": "https://localhost:8080/"
        },
        "id": "Q3toOsBt_uOg",
        "outputId": "3dfb61f4-d708-4d34-9374-89abb8d935ec"
      },
      "execution_count": 20,
      "outputs": [
        {
          "output_type": "execute_result",
          "data": {
            "text/plain": [
              "30"
            ]
          },
          "metadata": {},
          "execution_count": 20
        }
      ]
    },
    {
      "cell_type": "code",
      "source": [
        "a"
      ],
      "metadata": {
        "colab": {
          "base_uri": "https://localhost:8080/"
        },
        "id": "yhq3l9H8AB9B",
        "outputId": "e0bee57f-728b-4a7b-af16-029d4e3abd1b"
      },
      "execution_count": 21,
      "outputs": [
        {
          "output_type": "execute_result",
          "data": {
            "text/plain": [
              "[3.141592653589793,\n",
              " <function __main__.add2(x, y)>,\n",
              " 30,\n",
              " True,\n",
              " 'list',\n",
              " <function __main__.<lambda>(x)>,\n",
              " 'py']"
            ]
          },
          "metadata": {},
          "execution_count": 21
        }
      ]
    },
    {
      "cell_type": "code",
      "source": [
        "a.remove(30)"
      ],
      "metadata": {
        "id": "UP5BmkTQAHK-"
      },
      "execution_count": 22,
      "outputs": []
    },
    {
      "cell_type": "code",
      "source": [
        "a.pop()"
      ],
      "metadata": {
        "colab": {
          "base_uri": "https://localhost:8080/",
          "height": 35
        },
        "id": "6WzWu2OKAKMW",
        "outputId": "73ddd7b8-ea6e-4053-ec23-a30d6ac78f7a"
      },
      "execution_count": 23,
      "outputs": [
        {
          "output_type": "execute_result",
          "data": {
            "text/plain": [
              "'py'"
            ],
            "application/vnd.google.colaboratory.intrinsic+json": {
              "type": "string"
            }
          },
          "metadata": {},
          "execution_count": 23
        }
      ]
    },
    {
      "cell_type": "code",
      "source": [
        "a"
      ],
      "metadata": {
        "colab": {
          "base_uri": "https://localhost:8080/"
        },
        "id": "lFnVLY5AAqhU",
        "outputId": "f3932fb5-b333-438b-ee92-ba46167f17ee"
      },
      "execution_count": 24,
      "outputs": [
        {
          "output_type": "execute_result",
          "data": {
            "text/plain": [
              "[3.141592653589793,\n",
              " <function __main__.add2(x, y)>,\n",
              " True,\n",
              " 'list',\n",
              " <function __main__.<lambda>(x)>]"
            ]
          },
          "metadata": {},
          "execution_count": 24
        }
      ]
    },
    {
      "cell_type": "markdown",
      "source": [
        "###리스트 컴프리헨션"
      ],
      "metadata": {
        "id": "cVxDDaPjAsyu"
      }
    },
    {
      "cell_type": "code",
      "source": [
        "my_list = [x for x in range(10)]\n",
        "my_list"
      ],
      "metadata": {
        "colab": {
          "base_uri": "https://localhost:8080/"
        },
        "id": "2iujHGmEAraP",
        "outputId": "2ab970bc-037b-4005-a1bf-60be032b9213"
      },
      "execution_count": 26,
      "outputs": [
        {
          "output_type": "execute_result",
          "data": {
            "text/plain": [
              "[0, 1, 2, 3, 4, 5, 6, 7, 8, 9]"
            ]
          },
          "metadata": {},
          "execution_count": 26
        }
      ]
    },
    {
      "cell_type": "code",
      "source": [
        "[x for x in range(10) if x%2 ==1]"
      ],
      "metadata": {
        "colab": {
          "base_uri": "https://localhost:8080/"
        },
        "id": "f3W1x5fiA4uB",
        "outputId": "654254a2-b00e-4406-efd2-43e03a2d30ef"
      },
      "execution_count": 27,
      "outputs": [
        {
          "output_type": "execute_result",
          "data": {
            "text/plain": [
              "[1, 3, 5, 7, 9]"
            ]
          },
          "metadata": {},
          "execution_count": 27
        }
      ]
    },
    {
      "cell_type": "code",
      "source": [
        "['even' if i%2 == 0 else 'odd' for i in range(1, 11)]"
      ],
      "metadata": {
        "colab": {
          "base_uri": "https://localhost:8080/"
        },
        "id": "9zW1d99SBCaO",
        "outputId": "293c7029-d5f3-4487-bb59-c98689f241c6"
      },
      "execution_count": 28,
      "outputs": [
        {
          "output_type": "execute_result",
          "data": {
            "text/plain": [
              "['odd', 'even', 'odd', 'even', 'odd', 'even', 'odd', 'even', 'odd', 'even']"
            ]
          },
          "metadata": {},
          "execution_count": 28
        }
      ]
    },
    {
      "cell_type": "code",
      "source": [
        "[[i for j in range(5)] for i in range(3)]"
      ],
      "metadata": {
        "colab": {
          "base_uri": "https://localhost:8080/"
        },
        "id": "tkabHYE1BNX5",
        "outputId": "fdd9ed40-a730-4640-fbcd-6fb55702ef73"
      },
      "execution_count": 29,
      "outputs": [
        {
          "output_type": "execute_result",
          "data": {
            "text/plain": [
              "[[0, 0, 0, 0, 0], [1, 1, 1, 1, 1], [2, 2, 2, 2, 2]]"
            ]
          },
          "metadata": {},
          "execution_count": 29
        }
      ]
    },
    {
      "cell_type": "code",
      "source": [
        "[[j for j in range(i, i+6)] for i in range(3)]"
      ],
      "metadata": {
        "colab": {
          "base_uri": "https://localhost:8080/"
        },
        "id": "nkaWtpRxBUPw",
        "outputId": "a2144ed0-65ab-4a2d-a935-3170ad922fdf"
      },
      "execution_count": 30,
      "outputs": [
        {
          "output_type": "execute_result",
          "data": {
            "text/plain": [
              "[[0, 1, 2, 3, 4, 5], [1, 2, 3, 4, 5, 6], [2, 3, 4, 5, 6, 7]]"
            ]
          },
          "metadata": {},
          "execution_count": 30
        }
      ]
    },
    {
      "cell_type": "markdown",
      "source": [
        "###사전 개요와 생성"
      ],
      "metadata": {
        "id": "Mr3pR9pcBfht"
      }
    },
    {
      "cell_type": "code",
      "source": [
        "mart = {'라면':1200, '음료수':1500, '과자':800}\n",
        "print(mart, type(mart))"
      ],
      "metadata": {
        "colab": {
          "base_uri": "https://localhost:8080/"
        },
        "id": "IZZxQisNBeHg",
        "outputId": "09d84fef-15fd-4fa4-d492-2f2cb008ca16"
      },
      "execution_count": 31,
      "outputs": [
        {
          "output_type": "stream",
          "name": "stdout",
          "text": [
            "{'라면': 1200, '음료수': 1500, '과자': 800} <class 'dict'>\n"
          ]
        }
      ]
    },
    {
      "cell_type": "code",
      "source": [
        "print(mart['라면'])\n",
        "print(mart['과자'])\n",
        "print(mart['음료수'])"
      ],
      "metadata": {
        "colab": {
          "base_uri": "https://localhost:8080/"
        },
        "id": "Ou8Jxq7bDpvk",
        "outputId": "571d0294-4304-4ed8-821c-e15c766acaeb"
      },
      "execution_count": 32,
      "outputs": [
        {
          "output_type": "stream",
          "name": "stdout",
          "text": [
            "1200\n",
            "800\n",
            "1500\n"
          ]
        }
      ]
    },
    {
      "cell_type": "code",
      "source": [
        "data = {1: '일', 3.14: 2.71, (1,2): '튜플', 'list': [1, 2, 3]}\n",
        "data"
      ],
      "metadata": {
        "colab": {
          "base_uri": "https://localhost:8080/"
        },
        "id": "e1qcJc07D2Y8",
        "outputId": "3b310914-1b9d-4983-bcab-d8d740bd1f50"
      },
      "execution_count": 34,
      "outputs": [
        {
          "output_type": "execute_result",
          "data": {
            "text/plain": [
              "{1: '일', 3.14: 2.71, (1, 2): '튜플', 'list': [1, 2, 3]}"
            ]
          },
          "metadata": {},
          "execution_count": 34
        }
      ]
    },
    {
      "cell_type": "code",
      "source": [
        "data = {1: '일', 3.14: 2.71, [1, 2]: '리스트', 'list': [1, 2, 3]}"
      ],
      "metadata": {
        "colab": {
          "base_uri": "https://localhost:8080/",
          "height": 139
        },
        "id": "UjjpW9zKEQZC",
        "outputId": "4e048373-ca3f-4921-9c24-04ab95f045ed"
      },
      "execution_count": 35,
      "outputs": [
        {
          "output_type": "error",
          "ename": "TypeError",
          "evalue": "unhashable type: 'list'",
          "traceback": [
            "\u001b[0;31m---------------------------------------------------------------------------\u001b[0m",
            "\u001b[0;31mTypeError\u001b[0m                                 Traceback (most recent call last)",
            "\u001b[0;32m<ipython-input-35-2cd23a6c8f2c>\u001b[0m in \u001b[0;36m<cell line: 1>\u001b[0;34m()\u001b[0m\n\u001b[0;32m----> 1\u001b[0;31m \u001b[0mdata\u001b[0m \u001b[0;34m=\u001b[0m \u001b[0;34m{\u001b[0m\u001b[0;36m1\u001b[0m\u001b[0;34m:\u001b[0m \u001b[0;34m'일'\u001b[0m\u001b[0;34m,\u001b[0m \u001b[0;36m3.14\u001b[0m\u001b[0;34m:\u001b[0m \u001b[0;36m2.71\u001b[0m\u001b[0;34m,\u001b[0m \u001b[0;34m[\u001b[0m\u001b[0;36m1\u001b[0m\u001b[0;34m,\u001b[0m \u001b[0;36m2\u001b[0m\u001b[0;34m]\u001b[0m\u001b[0;34m:\u001b[0m \u001b[0;34m'리스트'\u001b[0m\u001b[0;34m,\u001b[0m \u001b[0;34m'list'\u001b[0m\u001b[0;34m:\u001b[0m \u001b[0;34m[\u001b[0m\u001b[0;36m1\u001b[0m\u001b[0;34m,\u001b[0m \u001b[0;36m2\u001b[0m\u001b[0;34m,\u001b[0m \u001b[0;36m3\u001b[0m\u001b[0;34m]\u001b[0m\u001b[0;34m}\u001b[0m\u001b[0;34m\u001b[0m\u001b[0;34m\u001b[0m\u001b[0m\n\u001b[0m",
            "\u001b[0;31mTypeError\u001b[0m: unhashable type: 'list'"
          ]
        }
      ]
    },
    {
      "cell_type": "code",
      "source": [
        "f_cnt = dict((('apple', 2), ('banana', 5), ('orange', 3)))\n",
        "f_cnt"
      ],
      "metadata": {
        "colab": {
          "base_uri": "https://localhost:8080/"
        },
        "id": "bgfp4NKKEsiQ",
        "outputId": "8feef2a1-fc83-4dfa-f9e9-2949a2d8a51a"
      },
      "execution_count": 36,
      "outputs": [
        {
          "output_type": "execute_result",
          "data": {
            "text/plain": [
              "{'apple': 2, 'banana': 5, 'orange': 3}"
            ]
          },
          "metadata": {},
          "execution_count": 36
        }
      ]
    },
    {
      "cell_type": "code",
      "source": [
        "f_price = dict(apple=4000, banana=300, orange=2000)\n",
        "f_price"
      ],
      "metadata": {
        "colab": {
          "base_uri": "https://localhost:8080/"
        },
        "id": "nJpAwr0IE-hL",
        "outputId": "32f4f737-07c2-4250-95d9-51f63da51735"
      },
      "execution_count": 37,
      "outputs": [
        {
          "output_type": "execute_result",
          "data": {
            "text/plain": [
              "{'apple': 4000, 'banana': 300, 'orange': 2000}"
            ]
          },
          "metadata": {},
          "execution_count": 37
        }
      ]
    },
    {
      "cell_type": "markdown",
      "source": [
        "###항목 추가와 메소드 items()"
      ],
      "metadata": {
        "id": "nT4wiDxiFOUO"
      }
    },
    {
      "cell_type": "code",
      "source": [
        "mart = {'라면': 1200, '음료수': 1500, '과자': 800}\n",
        "mart['삼각김밥'] = 1700\n",
        "mart"
      ],
      "metadata": {
        "colab": {
          "base_uri": "https://localhost:8080/"
        },
        "id": "RsGXWDb3FK8-",
        "outputId": "6cb53dde-4afd-4197-82b3-ab906b13a2ce"
      },
      "execution_count": 38,
      "outputs": [
        {
          "output_type": "execute_result",
          "data": {
            "text/plain": [
              "{'라면': 1200, '음료수': 1500, '과자': 800, '삼각김밥': 1700}"
            ]
          },
          "metadata": {},
          "execution_count": 38
        }
      ]
    },
    {
      "cell_type": "code",
      "source": [
        "mart['과자'] = 900\n",
        "mart"
      ],
      "metadata": {
        "colab": {
          "base_uri": "https://localhost:8080/"
        },
        "id": "s-v9N7MtFmVQ",
        "outputId": "a8f4549a-8dcb-4653-abbd-013c3e842699"
      },
      "execution_count": 39,
      "outputs": [
        {
          "output_type": "execute_result",
          "data": {
            "text/plain": [
              "{'라면': 1200, '음료수': 1500, '과자': 900, '삼각김밥': 1700}"
            ]
          },
          "metadata": {},
          "execution_count": 39
        }
      ]
    },
    {
      "cell_type": "code",
      "source": [
        "mart.keys()"
      ],
      "metadata": {
        "colab": {
          "base_uri": "https://localhost:8080/"
        },
        "id": "ERikGBL0FsT2",
        "outputId": "69bd52ab-cd3a-4d18-c2f2-0b3cdf522171"
      },
      "execution_count": 40,
      "outputs": [
        {
          "output_type": "execute_result",
          "data": {
            "text/plain": [
              "dict_keys(['라면', '음료수', '과자', '삼각김밥'])"
            ]
          },
          "metadata": {},
          "execution_count": 40
        }
      ]
    },
    {
      "cell_type": "code",
      "source": [
        "mart.values()"
      ],
      "metadata": {
        "colab": {
          "base_uri": "https://localhost:8080/"
        },
        "id": "yySGOSIrGbBO",
        "outputId": "608b0ca4-11a1-4ae8-e0c2-39f15c4ceb79"
      },
      "execution_count": 41,
      "outputs": [
        {
          "output_type": "execute_result",
          "data": {
            "text/plain": [
              "dict_values([1200, 1500, 900, 1700])"
            ]
          },
          "metadata": {},
          "execution_count": 41
        }
      ]
    },
    {
      "cell_type": "code",
      "source": [
        "mart.items()"
      ],
      "metadata": {
        "colab": {
          "base_uri": "https://localhost:8080/"
        },
        "id": "7BLC4F5EGdk1",
        "outputId": "de5a7ede-e3e5-4a53-a804-8296cf60cde0"
      },
      "execution_count": 42,
      "outputs": [
        {
          "output_type": "execute_result",
          "data": {
            "text/plain": [
              "dict_items([('라면', 1200), ('음료수', 1500), ('과자', 900), ('삼각김밥', 1700)])"
            ]
          },
          "metadata": {},
          "execution_count": 42
        }
      ]
    },
    {
      "cell_type": "markdown",
      "source": [
        "###튜플 개요와 활용"
      ],
      "metadata": {
        "id": "uLyercfLGiPX"
      }
    },
    {
      "cell_type": "code",
      "source": [
        "tp1 = 1, 2, 3\n",
        "tp2 = (10, 20, 30)\n",
        "print(tp1, tp2)"
      ],
      "metadata": {
        "colab": {
          "base_uri": "https://localhost:8080/"
        },
        "id": "qk4fBknbGgOo",
        "outputId": "724fe93b-2a4f-4c96-8d3f-6a02eb7cb72b"
      },
      "execution_count": 43,
      "outputs": [
        {
          "output_type": "stream",
          "name": "stdout",
          "text": [
            "(1, 2, 3) (10, 20, 30)\n"
          ]
        }
      ]
    },
    {
      "cell_type": "code",
      "source": [
        "tp3 = tuple((10, 20, 30))\n",
        "tp4 = tuple(['py', 'R'])\n",
        "print(tp3, tp4)"
      ],
      "metadata": {
        "colab": {
          "base_uri": "https://localhost:8080/"
        },
        "id": "wXIowqk4G0e9",
        "outputId": "0751146f-2adc-4177-fc51-b6a100d31048"
      },
      "execution_count": 44,
      "outputs": [
        {
          "output_type": "stream",
          "name": "stdout",
          "text": [
            "(10, 20, 30) ('py', 'R')\n"
          ]
        }
      ]
    },
    {
      "cell_type": "code",
      "source": [
        "tuple1 = (1, 2, 3)\n",
        "tuple2 = (4, 5, 6)\n",
        "concatenated_tuple = tuple1 + tuple2\n",
        "concatenated_tuple"
      ],
      "metadata": {
        "colab": {
          "base_uri": "https://localhost:8080/"
        },
        "id": "pqK-Ne_5HB5h",
        "outputId": "139b00c8-2bee-41f3-be58-359d8a26cd01"
      },
      "execution_count": 45,
      "outputs": [
        {
          "output_type": "execute_result",
          "data": {
            "text/plain": [
              "(1, 2, 3, 4, 5, 6)"
            ]
          },
          "metadata": {},
          "execution_count": 45
        }
      ]
    },
    {
      "cell_type": "markdown",
      "source": [
        "###집합 개요와 활용"
      ],
      "metadata": {
        "id": "MhAyo_qWHgvb"
      }
    },
    {
      "cell_type": "code",
      "source": [
        "basket = {'apple', 'orange', 'apple', 'pear'}\n",
        "basket"
      ],
      "metadata": {
        "colab": {
          "base_uri": "https://localhost:8080/"
        },
        "id": "pNzXWHodHfZV",
        "outputId": "7a7170c9-8468-4b94-e79b-dd86bed16d47"
      },
      "execution_count": 51,
      "outputs": [
        {
          "output_type": "execute_result",
          "data": {
            "text/plain": [
              "{'apple', 'orange', 'pear'}"
            ]
          },
          "metadata": {},
          "execution_count": 51
        }
      ]
    },
    {
      "cell_type": "code",
      "source": [
        "len(basket)"
      ],
      "metadata": {
        "colab": {
          "base_uri": "https://localhost:8080/"
        },
        "id": "ESZ25tPSHtrR",
        "outputId": "1943397b-5cd0-49c9-9b83-5093fe2a9b90"
      },
      "execution_count": 52,
      "outputs": [
        {
          "output_type": "execute_result",
          "data": {
            "text/plain": [
              "3"
            ]
          },
          "metadata": {},
          "execution_count": 52
        }
      ]
    },
    {
      "cell_type": "code",
      "source": [
        "print('grape' in basket)\n",
        "print('apple' in basket)"
      ],
      "metadata": {
        "colab": {
          "base_uri": "https://localhost:8080/"
        },
        "id": "29SVSnBQHzPS",
        "outputId": "25de43c5-8a9c-4ab7-d5d0-1fc7ca4b1329"
      },
      "execution_count": 53,
      "outputs": [
        {
          "output_type": "stream",
          "name": "stdout",
          "text": [
            "False\n",
            "True\n"
          ]
        }
      ]
    },
    {
      "cell_type": "code",
      "source": [
        "A = {1, 2, 3, 4}\n",
        "B = {3, 4, 5, 6, 7}\n",
        "print(A.union(B))\n",
        "print(A.intersection(B))\n",
        "print(A.difference(B))\n",
        "print(B.difference(A))\n",
        "print(A.symmetric_difference(B))"
      ],
      "metadata": {
        "colab": {
          "base_uri": "https://localhost:8080/"
        },
        "id": "EOhHedixH6ox",
        "outputId": "94cd2f7a-1092-4a40-eb36-cae1c6e3c591"
      },
      "execution_count": 54,
      "outputs": [
        {
          "output_type": "stream",
          "name": "stdout",
          "text": [
            "{1, 2, 3, 4, 5, 6, 7}\n",
            "{3, 4}\n",
            "{1, 2}\n",
            "{5, 6, 7}\n",
            "{1, 2, 5, 6, 7}\n"
          ]
        }
      ]
    },
    {
      "cell_type": "code",
      "source": [
        "A = {1, 2, 3, 4}\n",
        "B = {3, 4, 5, 6, 7}\n",
        "print(A | B)\n",
        "print(A & B)\n",
        "print(A - B)\n",
        "print(B - A)\n",
        "print(A ^ B)"
      ],
      "metadata": {
        "colab": {
          "base_uri": "https://localhost:8080/"
        },
        "id": "9EaPmf-EItdj",
        "outputId": "8e194a41-626c-42f9-a220-8ec1c33536c1"
      },
      "execution_count": 55,
      "outputs": [
        {
          "output_type": "stream",
          "name": "stdout",
          "text": [
            "{1, 2, 3, 4, 5, 6, 7}\n",
            "{3, 4}\n",
            "{1, 2}\n",
            "{5, 6, 7}\n",
            "{1, 2, 5, 6, 7}\n"
          ]
        }
      ]
    },
    {
      "cell_type": "code",
      "source": [
        "basket = {'apple', 'orange', 'apple', 'pear'}\n",
        "basket.add('banana')\n",
        "basket"
      ],
      "metadata": {
        "colab": {
          "base_uri": "https://localhost:8080/"
        },
        "id": "GEZ0bmiUJa1C",
        "outputId": "d229f0ad-5c95-4c41-b3c2-4a772f40ad76"
      },
      "execution_count": 57,
      "outputs": [
        {
          "output_type": "execute_result",
          "data": {
            "text/plain": [
              "{'apple', 'banana', 'orange', 'pear'}"
            ]
          },
          "metadata": {},
          "execution_count": 57
        }
      ]
    },
    {
      "cell_type": "code",
      "source": [
        "myset = {0}\n",
        "print(myset)\n",
        "myset.add([1, 2])"
      ],
      "metadata": {
        "colab": {
          "base_uri": "https://localhost:8080/",
          "height": 190
        },
        "id": "dgDLyB2fJooF",
        "outputId": "530c7dd4-9802-4ded-ebf1-7481882e84cb"
      },
      "execution_count": 58,
      "outputs": [
        {
          "output_type": "stream",
          "name": "stdout",
          "text": [
            "{0}\n"
          ]
        },
        {
          "output_type": "error",
          "ename": "TypeError",
          "evalue": "unhashable type: 'list'",
          "traceback": [
            "\u001b[0;31m---------------------------------------------------------------------------\u001b[0m",
            "\u001b[0;31mTypeError\u001b[0m                                 Traceback (most recent call last)",
            "\u001b[0;32m<ipython-input-58-a94db64207f9>\u001b[0m in \u001b[0;36m<cell line: 3>\u001b[0;34m()\u001b[0m\n\u001b[1;32m      1\u001b[0m \u001b[0mmyset\u001b[0m \u001b[0;34m=\u001b[0m \u001b[0;34m{\u001b[0m\u001b[0;36m0\u001b[0m\u001b[0;34m}\u001b[0m\u001b[0;34m\u001b[0m\u001b[0;34m\u001b[0m\u001b[0m\n\u001b[1;32m      2\u001b[0m \u001b[0mprint\u001b[0m\u001b[0;34m(\u001b[0m\u001b[0mmyset\u001b[0m\u001b[0;34m)\u001b[0m\u001b[0;34m\u001b[0m\u001b[0;34m\u001b[0m\u001b[0m\n\u001b[0;32m----> 3\u001b[0;31m \u001b[0mmyset\u001b[0m\u001b[0;34m.\u001b[0m\u001b[0madd\u001b[0m\u001b[0;34m(\u001b[0m\u001b[0;34m[\u001b[0m\u001b[0;36m1\u001b[0m\u001b[0;34m,\u001b[0m \u001b[0;36m2\u001b[0m\u001b[0;34m]\u001b[0m\u001b[0;34m)\u001b[0m\u001b[0;34m\u001b[0m\u001b[0;34m\u001b[0m\u001b[0m\n\u001b[0m",
            "\u001b[0;31mTypeError\u001b[0m: unhashable type: 'list'"
          ]
        }
      ]
    },
    {
      "cell_type": "code",
      "source": [
        "myset = {0}\n",
        "myset.add((1, 2))\n",
        "myset"
      ],
      "metadata": {
        "colab": {
          "base_uri": "https://localhost:8080/"
        },
        "id": "3koMwq2BJ3UD",
        "outputId": "c5dfdc34-4153-481a-9bad-cfd424e5192d"
      },
      "execution_count": 59,
      "outputs": [
        {
          "output_type": "execute_result",
          "data": {
            "text/plain": [
              "{(1, 2), 0}"
            ]
          },
          "metadata": {},
          "execution_count": 59
        }
      ]
    },
    {
      "cell_type": "code",
      "source": [
        "myset.remove(0)\n",
        "myset"
      ],
      "metadata": {
        "colab": {
          "base_uri": "https://localhost:8080/"
        },
        "id": "DeT6LHS6J_sd",
        "outputId": "fa59118c-d318-4aad-8bf5-c49431fe634d"
      },
      "execution_count": 60,
      "outputs": [
        {
          "output_type": "execute_result",
          "data": {
            "text/plain": [
              "{(1, 2)}"
            ]
          },
          "metadata": {},
          "execution_count": 60
        }
      ]
    },
    {
      "cell_type": "markdown",
      "source": [
        "###수정불가능 immutable과 함수 hash() id()"
      ],
      "metadata": {
        "id": "49Gq3a4wKI2U"
      }
    },
    {
      "cell_type": "code",
      "source": [
        "print(hash([1, 2, 3]))"
      ],
      "metadata": {
        "colab": {
          "base_uri": "https://localhost:8080/",
          "height": 139
        },
        "id": "Wru1NkRkKHxs",
        "outputId": "f0124517-64f0-4335-e5bb-d202afe75098"
      },
      "execution_count": 61,
      "outputs": [
        {
          "output_type": "error",
          "ename": "TypeError",
          "evalue": "unhashable type: 'list'",
          "traceback": [
            "\u001b[0;31m---------------------------------------------------------------------------\u001b[0m",
            "\u001b[0;31mTypeError\u001b[0m                                 Traceback (most recent call last)",
            "\u001b[0;32m<ipython-input-61-d96208418859>\u001b[0m in \u001b[0;36m<cell line: 1>\u001b[0;34m()\u001b[0m\n\u001b[0;32m----> 1\u001b[0;31m \u001b[0mprint\u001b[0m\u001b[0;34m(\u001b[0m\u001b[0mhash\u001b[0m\u001b[0;34m(\u001b[0m\u001b[0;34m[\u001b[0m\u001b[0;36m1\u001b[0m\u001b[0;34m,\u001b[0m \u001b[0;36m2\u001b[0m\u001b[0;34m,\u001b[0m \u001b[0;36m3\u001b[0m\u001b[0;34m]\u001b[0m\u001b[0;34m)\u001b[0m\u001b[0;34m)\u001b[0m\u001b[0;34m\u001b[0m\u001b[0;34m\u001b[0m\u001b[0m\n\u001b[0m",
            "\u001b[0;31mTypeError\u001b[0m: unhashable type: 'list'"
          ]
        }
      ]
    },
    {
      "cell_type": "code",
      "source": [
        "print(hash({'one':1}))"
      ],
      "metadata": {
        "colab": {
          "base_uri": "https://localhost:8080/",
          "height": 139
        },
        "id": "0155Kb9OKVek",
        "outputId": "e15f2500-ef25-4aab-dbca-7392bac0221a"
      },
      "execution_count": 62,
      "outputs": [
        {
          "output_type": "error",
          "ename": "TypeError",
          "evalue": "unhashable type: 'dict'",
          "traceback": [
            "\u001b[0;31m---------------------------------------------------------------------------\u001b[0m",
            "\u001b[0;31mTypeError\u001b[0m                                 Traceback (most recent call last)",
            "\u001b[0;32m<ipython-input-62-376b540a2b57>\u001b[0m in \u001b[0;36m<cell line: 1>\u001b[0;34m()\u001b[0m\n\u001b[0;32m----> 1\u001b[0;31m \u001b[0mprint\u001b[0m\u001b[0;34m(\u001b[0m\u001b[0mhash\u001b[0m\u001b[0;34m(\u001b[0m\u001b[0;34m{\u001b[0m\u001b[0;34m'one'\u001b[0m\u001b[0;34m:\u001b[0m\u001b[0;36m1\u001b[0m\u001b[0;34m}\u001b[0m\u001b[0;34m)\u001b[0m\u001b[0;34m)\u001b[0m\u001b[0;34m\u001b[0m\u001b[0;34m\u001b[0m\u001b[0m\n\u001b[0m",
            "\u001b[0;31mTypeError\u001b[0m: unhashable type: 'dict'"
          ]
        }
      ]
    },
    {
      "cell_type": "code",
      "source": [
        "print(hash('py'), hash((1, 2)))"
      ],
      "metadata": {
        "colab": {
          "base_uri": "https://localhost:8080/"
        },
        "id": "dTaxET3oKaJw",
        "outputId": "e5ff74e3-84ad-4a3c-b306-c14a49d4aea7"
      },
      "execution_count": 63,
      "outputs": [
        {
          "output_type": "stream",
          "name": "stdout",
          "text": [
            "-1098767418087154509 -3550055125485641917\n"
          ]
        }
      ]
    },
    {
      "cell_type": "code",
      "source": [
        "help(id)"
      ],
      "metadata": {
        "colab": {
          "base_uri": "https://localhost:8080/"
        },
        "id": "R2wlJaDDKhzi",
        "outputId": "269507b8-6c24-494c-9a4b-549cbf0f05a7"
      },
      "execution_count": 64,
      "outputs": [
        {
          "output_type": "stream",
          "name": "stdout",
          "text": [
            "Help on built-in function id in module builtins:\n",
            "\n",
            "id(obj, /)\n",
            "    Return the identity of an object.\n",
            "    \n",
            "    This is guaranteed to be unique among simultaneously existing objects.\n",
            "    (CPython uses the object's memory address.)\n",
            "\n"
          ]
        }
      ]
    },
    {
      "cell_type": "code",
      "source": [
        "x, y = 10, 10\n",
        "print(id(x), id(y))"
      ],
      "metadata": {
        "colab": {
          "base_uri": "https://localhost:8080/"
        },
        "id": "1k7G60avKkEv",
        "outputId": "6b77a854-9c04-4149-e609-515a1c7a0edd"
      },
      "execution_count": 65,
      "outputs": [
        {
          "output_type": "stream",
          "name": "stdout",
          "text": [
            "136961111769616 136961111769616\n"
          ]
        }
      ]
    },
    {
      "cell_type": "markdown",
      "source": [
        "#end the code"
      ],
      "metadata": {
        "id": "6eLi-fwRKyDB"
      }
    }
  ]
}