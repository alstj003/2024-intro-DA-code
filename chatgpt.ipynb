{
  "nbformat": 4,
  "nbformat_minor": 0,
  "metadata": {
    "colab": {
      "provenance": [],
      "authorship_tag": "ABX9TyPwK3Pm02VswDUE2OImYQTR",
      "include_colab_link": true
    },
    "kernelspec": {
      "name": "python3",
      "display_name": "Python 3"
    },
    "language_info": {
      "name": "python"
    }
  },
  "cells": [
    {
      "cell_type": "markdown",
      "metadata": {
        "id": "view-in-github",
        "colab_type": "text"
      },
      "source": [
        "<a href=\"https://colab.research.google.com/github/alstj003/2024-intro-DA-code/blob/main/chatgpt.ipynb\" target=\"_parent\"><img src=\"https://colab.research.google.com/assets/colab-badge.svg\" alt=\"Open In Colab\"/></a>"
      ]
    },
    {
      "cell_type": "code",
      "execution_count": 2,
      "metadata": {
        "colab": {
          "base_uri": "https://localhost:8080/"
        },
        "id": "BB4pZ9pDLV4V",
        "outputId": "66ffa8d4-6ee9-4e05-c34b-5e4f9d06cac6"
      },
      "outputs": [
        {
          "output_type": "stream",
          "name": "stdout",
          "text": [
            "서울에서 가장 높은 기온은 39.6℃이며, 날짜는 2018-08-01입니다.\n"
          ]
        }
      ],
      "source": [
        "import csv\n",
        "\n",
        "# 파일 경로 설정\n",
        "file_path = 'seoul.csv'\n",
        "\n",
        "# 최고 기온과 날짜를 저장할 변수 초기화\n",
        "max_temp = float('-inf')\n",
        "max_temp_date = ''\n",
        "\n",
        "# CSV 파일 읽기\n",
        "with open(file_path, 'r', encoding='cp949') as file:\n",
        "    reader = csv.reader(file)\n",
        "    next(reader)  # 헤더 건너뛰기\n",
        "    for row in reader:\n",
        "        date = row[0].strip()\n",
        "        try:\n",
        "            temp = float(row[4].strip())  # 최고기온(℃) 컬럼 (5번째)\n",
        "            if temp > max_temp:\n",
        "                max_temp = temp\n",
        "                max_temp_date = date\n",
        "        except ValueError:\n",
        "            continue  # 온도가 숫자가 아니면 건너뛰기\n",
        "\n",
        "# 결과 출력\n",
        "print(f\"서울에서 가장 높은 기온은 {max_temp}℃이며, 날짜는 {max_temp_date}입니다.\")"
      ]
    },
    {
      "cell_type": "code",
      "source": [],
      "metadata": {
        "id": "ioFqFlLnLZK-"
      },
      "execution_count": null,
      "outputs": []
    }
  ]
}